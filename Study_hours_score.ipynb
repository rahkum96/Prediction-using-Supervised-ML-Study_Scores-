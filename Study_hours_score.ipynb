{
 "cells": [
  {
   "cell_type": "markdown",
   "id": "030841b5",
   "metadata": {},
   "source": [
    "# The Spark Foundation #GRIP July21\n",
    "**Role- Data Science and Business Analytics        \n",
    "Author- Rahul Kumar**                 \n",
    "**Task 1:** Predict the Score of the students based on no. of study hours        \n",
    "Here We will predict the score if a student studies for a 9.25 hrs/day ?          \n",
    "This is simple linear regression problem of two variable one is independent(Hours) and other is dependent variable(scores.\n",
    "And this is Supervised ML.     \n",
    "\n"
   ]
  },
  {
   "cell_type": "code",
   "execution_count": 1,
   "id": "4b7ad34f",
   "metadata": {},
   "outputs": [],
   "source": [
    "#Importing all libraries required in this notebook\n",
    "import pandas as pd\n",
    "import numpy as np  \n",
    "import matplotlib.pyplot as plt\n",
    "%matplotlib inline\n",
    "from sklearn import linear_model"
   ]
  },
  {
   "cell_type": "code",
   "execution_count": 2,
   "id": "f42a3015",
   "metadata": {
    "scrolled": true
   },
   "outputs": [
    {
     "data": {
      "text/html": [
       "<div>\n",
       "<style scoped>\n",
       "    .dataframe tbody tr th:only-of-type {\n",
       "        vertical-align: middle;\n",
       "    }\n",
       "\n",
       "    .dataframe tbody tr th {\n",
       "        vertical-align: top;\n",
       "    }\n",
       "\n",
       "    .dataframe thead th {\n",
       "        text-align: right;\n",
       "    }\n",
       "</style>\n",
       "<table border=\"1\" class=\"dataframe\">\n",
       "  <thead>\n",
       "    <tr style=\"text-align: right;\">\n",
       "      <th></th>\n",
       "      <th>Hours</th>\n",
       "      <th>Scores</th>\n",
       "    </tr>\n",
       "  </thead>\n",
       "  <tbody>\n",
       "    <tr>\n",
       "      <th>0</th>\n",
       "      <td>2.5</td>\n",
       "      <td>21</td>\n",
       "    </tr>\n",
       "    <tr>\n",
       "      <th>1</th>\n",
       "      <td>5.1</td>\n",
       "      <td>47</td>\n",
       "    </tr>\n",
       "    <tr>\n",
       "      <th>2</th>\n",
       "      <td>3.2</td>\n",
       "      <td>27</td>\n",
       "    </tr>\n",
       "    <tr>\n",
       "      <th>3</th>\n",
       "      <td>8.5</td>\n",
       "      <td>75</td>\n",
       "    </tr>\n",
       "    <tr>\n",
       "      <th>4</th>\n",
       "      <td>3.5</td>\n",
       "      <td>30</td>\n",
       "    </tr>\n",
       "  </tbody>\n",
       "</table>\n",
       "</div>"
      ],
      "text/plain": [
       "   Hours  Scores\n",
       "0    2.5      21\n",
       "1    5.1      47\n",
       "2    3.2      27\n",
       "3    8.5      75\n",
       "4    3.5      30"
      ]
     },
     "execution_count": 2,
     "metadata": {},
     "output_type": "execute_result"
    }
   ],
   "source": [
    "#Reading data from remote link\n",
    "url = \"http://bit.ly/w-data\"\n",
    "df1 = pd.read_csv(url)\n",
    "df1.head()"
   ]
  },
  {
   "cell_type": "code",
   "execution_count": 3,
   "id": "9514fca7",
   "metadata": {},
   "outputs": [
    {
     "data": {
      "text/plain": [
       "Hours     float64\n",
       "Scores      int64\n",
       "dtype: object"
      ]
     },
     "execution_count": 3,
     "metadata": {},
     "output_type": "execute_result"
    }
   ],
   "source": [
    "#check the data type\n",
    "df1.dtypes"
   ]
  },
  {
   "cell_type": "code",
   "execution_count": 4,
   "id": "8f0268e7",
   "metadata": {},
   "outputs": [
    {
     "data": {
      "text/plain": [
       "Hours     0\n",
       "Scores    0\n",
       "dtype: int64"
      ]
     },
     "execution_count": 4,
     "metadata": {},
     "output_type": "execute_result"
    }
   ],
   "source": [
    "# Now check the missing values \n",
    "df1.isnull() #it will give in boolean \n",
    "df1.isnull().sum() # it will give total count od missing values"
   ]
  },
  {
   "cell_type": "code",
   "execution_count": 5,
   "id": "15884d48",
   "metadata": {},
   "outputs": [
    {
     "data": {
      "text/html": [
       "<div>\n",
       "<style scoped>\n",
       "    .dataframe tbody tr th:only-of-type {\n",
       "        vertical-align: middle;\n",
       "    }\n",
       "\n",
       "    .dataframe tbody tr th {\n",
       "        vertical-align: top;\n",
       "    }\n",
       "\n",
       "    .dataframe thead th {\n",
       "        text-align: right;\n",
       "    }\n",
       "</style>\n",
       "<table border=\"1\" class=\"dataframe\">\n",
       "  <thead>\n",
       "    <tr style=\"text-align: right;\">\n",
       "      <th></th>\n",
       "      <th>Hours</th>\n",
       "      <th>Scores</th>\n",
       "    </tr>\n",
       "  </thead>\n",
       "  <tbody>\n",
       "    <tr>\n",
       "      <th>Hours</th>\n",
       "      <td>1.000000</td>\n",
       "      <td>0.976191</td>\n",
       "    </tr>\n",
       "    <tr>\n",
       "      <th>Scores</th>\n",
       "      <td>0.976191</td>\n",
       "      <td>1.000000</td>\n",
       "    </tr>\n",
       "  </tbody>\n",
       "</table>\n",
       "</div>"
      ],
      "text/plain": [
       "           Hours    Scores\n",
       "Hours   1.000000  0.976191\n",
       "Scores  0.976191  1.000000"
      ]
     },
     "execution_count": 5,
     "metadata": {},
     "output_type": "execute_result"
    }
   ],
   "source": [
    "# Now we will check correlation \n",
    "df1.corr()"
   ]
  },
  {
   "cell_type": "markdown",
   "id": "49a5574a",
   "metadata": {},
   "source": [
    "So, we could say that **strong correlation** between study hours and scores.\n"
   ]
  },
  {
   "cell_type": "markdown",
   "id": "cd9433ea",
   "metadata": {},
   "source": [
    "Let's plot our data points on 2-D graph to eyeball our dataset and see if we can manually find any relationship between the data."
   ]
  },
  {
   "cell_type": "code",
   "execution_count": 6,
   "id": "bff7873c",
   "metadata": {},
   "outputs": [
    {
     "data": {
      "image/png": "[encoded data removed]",
      "text/plain": [
       "<Figure size 432x288 with 1 Axes>"
      ]
     },
     "metadata": {
      "needs_background": "light"
     },
     "output_type": "display_data"
    }
   ],
   "source": [
    "# Plotting the distribution of scores\n",
    "df1.plot(x=\"Hours\",y= \"Scores\", style= 'o')\n",
    "\n",
    "plt.title(\"Hours vs Scores\")\n",
    "plt.xlabel('Study Hours')\n",
    "plt.ylabel(\"Percentage Score\")\n",
    "plt.show()\n"
   ]
  },
  {
   "cell_type": "markdown",
   "id": "21a7eebb",
   "metadata": {},
   "source": [
    "**By, looking at graph we could also say that there is strong positive correlation between hours and scores**   "
   ]
  },
  {
   "cell_type": "markdown",
   "id": "051adefa",
   "metadata": {},
   "source": [
    "Now we will divide the data into independent variable(hours) and dependent varibale(scores) "
   ]
  },
  {
   "cell_type": "code",
   "execution_count": 7,
   "id": "70fd8b65",
   "metadata": {},
   "outputs": [],
   "source": [
    "x= df1[['Hours']]\n",
    "y= df1['Scores']"
   ]
  },
  {
   "cell_type": "markdown",
   "id": "2f8f5694",
   "metadata": {},
   "source": [
    "Now we will split this data into training and test sets. We'll do this by using Scikit-Learn's built-in **train_test_split()** method     \n",
    "**(by taking taking trianing data 80% & test data 20% )**"
   ]
  },
  {
   "cell_type": "code",
   "execution_count": 8,
   "id": "748034f1",
   "metadata": {},
   "outputs": [],
   "source": [
    "from sklearn.model_selection import train_test_split \n",
    "\n",
    "x_train, x_test, y_train, y_test = train_test_split(x, y, test_size=0.2) #Test data is 20% \n",
    "\n"
   ]
  },
  {
   "cell_type": "markdown",
   "id": "4e2693c4",
   "metadata": {},
   "source": [
    "# Now we are going to Train the algorithm        \n",
    "\n",
    "We have split our data into training and testing sets, and now is finally the time to train our algorithm."
   ]
  },
  {
   "cell_type": "code",
   "execution_count": 9,
   "id": "062f4556",
   "metadata": {},
   "outputs": [
    {
     "name": "stdout",
     "output_type": "stream",
     "text": [
      "training is completed\n"
     ]
    }
   ],
   "source": [
    "from sklearn.linear_model import LinearRegression  \n",
    "# Creating object\n",
    "reg= LinearRegression() \n",
    "\n",
    "#Training the model\n",
    "reg.fit(x_train,y_train)\n",
    "\n",
    "print('training is completed')\n"
   ]
  },
  {
   "cell_type": "markdown",
   "id": "3f468bcd",
   "metadata": {},
   "source": [
    "Now we can find the coefficent and intercept for the line. "
   ]
  },
  {
   "cell_type": "code",
   "execution_count": 10,
   "id": "01a889a5",
   "metadata": {},
   "outputs": [
    {
     "data": {
      "text/plain": [
       "array([9.73562384])"
      ]
     },
     "execution_count": 10,
     "metadata": {},
     "output_type": "execute_result"
    }
   ],
   "source": [
    "# coeffiect can be find\n",
    "\n",
    "a= reg.coef_\n",
    "a "
   ]
  },
  {
   "cell_type": "code",
   "execution_count": 11,
   "id": "b4c75fe8",
   "metadata": {},
   "outputs": [
    {
     "data": {
      "text/plain": [
       "2.858199029210084"
      ]
     },
     "execution_count": 11,
     "metadata": {},
     "output_type": "execute_result"
    }
   ],
   "source": [
    "#intercept \n",
    "b= reg.intercept_\n",
    "b"
   ]
  },
  {
   "cell_type": "code",
   "execution_count": 12,
   "id": "f28d2462",
   "metadata": {},
   "outputs": [],
   "source": [
    "# line equation can write\n",
    "y_line = a*x+b\n"
   ]
  },
  {
   "cell_type": "code",
   "execution_count": 13,
   "id": "e565b336",
   "metadata": {},
   "outputs": [
    {
     "data": {
      "image/png": "[encoded data removed]",
      "text/plain": [
       "<Figure size 432x288 with 1 Axes>"
      ]
     },
     "metadata": {
      "needs_background": "light"
     },
     "output_type": "display_data"
    }
   ],
   "source": [
    "## plot the graph by using y_line\n",
    "\n",
    "df1.plot(x=\"Hours\",y= \"Scores\", style= 'o')\n",
    "plt.plot(x,y_line)\n",
    "\n",
    "plt.title(\"Hours vs Scores\")\n",
    "plt.xlabel('Study Hours')\n",
    "plt.ylabel(\"Percentage Score\")\n",
    "\n",
    "plt.show()"
   ]
  },
  {
   "cell_type": "markdown",
   "id": "063c113c",
   "metadata": {},
   "source": [
    "# Now we will predict\n",
    "we have completed the trainning, now its time to predict"
   ]
  },
  {
   "cell_type": "code",
   "execution_count": 14,
   "id": "85d0e1f9",
   "metadata": {},
   "outputs": [
    {
     "name": "stdout",
     "output_type": "stream",
     "text": [
      "    Hours\n",
      "8     8.3\n",
      "15    8.9\n",
      "22    3.8\n",
      "19    7.4\n",
      "7     5.5\n"
     ]
    }
   ],
   "source": [
    "print(x_test) # Testing data - In Hours\n",
    "y_pred = reg.predict(x_test) # Predicting the scores"
   ]
  },
  {
   "cell_type": "code",
   "execution_count": 15,
   "id": "827d9600",
   "metadata": {},
   "outputs": [
    {
     "data": {
      "text/html": [
       "<div>\n",
       "<style scoped>\n",
       "    .dataframe tbody tr th:only-of-type {\n",
       "        vertical-align: middle;\n",
       "    }\n",
       "\n",
       "    .dataframe tbody tr th {\n",
       "        vertical-align: top;\n",
       "    }\n",
       "\n",
       "    .dataframe thead th {\n",
       "        text-align: right;\n",
       "    }\n",
       "</style>\n",
       "<table border=\"1\" class=\"dataframe\">\n",
       "  <thead>\n",
       "    <tr style=\"text-align: right;\">\n",
       "      <th></th>\n",
       "      <th>Actual</th>\n",
       "      <th>Predicted</th>\n",
       "    </tr>\n",
       "  </thead>\n",
       "  <tbody>\n",
       "    <tr>\n",
       "      <th>8</th>\n",
       "      <td>81</td>\n",
       "      <td>83.663877</td>\n",
       "    </tr>\n",
       "    <tr>\n",
       "      <th>15</th>\n",
       "      <td>95</td>\n",
       "      <td>89.505251</td>\n",
       "    </tr>\n",
       "    <tr>\n",
       "      <th>22</th>\n",
       "      <td>35</td>\n",
       "      <td>39.853570</td>\n",
       "    </tr>\n",
       "    <tr>\n",
       "      <th>19</th>\n",
       "      <td>69</td>\n",
       "      <td>74.901815</td>\n",
       "    </tr>\n",
       "    <tr>\n",
       "      <th>7</th>\n",
       "      <td>60</td>\n",
       "      <td>56.404130</td>\n",
       "    </tr>\n",
       "  </tbody>\n",
       "</table>\n",
       "</div>"
      ],
      "text/plain": [
       "    Actual  Predicted\n",
       "8       81  83.663877\n",
       "15      95  89.505251\n",
       "22      35  39.853570\n",
       "19      69  74.901815\n",
       "7       60  56.404130"
      ]
     },
     "execution_count": 15,
     "metadata": {},
     "output_type": "execute_result"
    }
   ],
   "source": [
    "# Comparing Actual vs Predicted\n",
    "df = pd.DataFrame({'Actual': y_test, 'Predicted':y_pred})  \n",
    "df "
   ]
  },
  {
   "cell_type": "code",
   "execution_count": null,
   "id": "15680c42",
   "metadata": {},
   "outputs": [],
   "source": [
    "# now we can predict the value Test the value for hours=9.25\n",
    "Hours = float(input(\"Number of hours you studies\"))\n",
    "y_hat = reg.predict([[Hours]])\n",
    "y_hat\n",
    "\n",
    "print('The study hours = {}' .format(Hours))\n",
    "print ('Percentage Score = {}'.format(y_hat[0]))"
   ]
  },
  {
   "cell_type": "markdown",
   "id": "8920c647",
   "metadata": {},
   "source": [
    "# Evaluating the model\n",
    "final step to check the accuracy of the model by using score method."
   ]
  },
  {
   "cell_type": "code",
   "execution_count": 17,
   "id": "754c86d6",
   "metadata": {},
   "outputs": [
    {
     "name": "stdout",
     "output_type": "stream",
     "text": [
      "R^2 Accuracy:  0.9470724423911627\n"
     ]
    }
   ],
   "source": [
    "print(\"R^2 Accuracy: \", reg.score(x_test, y_test))\n"
   ]
  },
  {
   "cell_type": "markdown",
   "id": "9983aceb",
   "metadata": {},
   "source": [
    "We know the value of R^2 is closer to 1. It means our predicted model is good.     \n",
    "\n"
   ]
  },
  {
   "cell_type": "code",
   "execution_count": null,
   "id": "cd9d89df",
   "metadata": {},
   "outputs": [],
   "source": []
  },
  {
   "cell_type": "code",
   "execution_count": null,
   "id": "31c2b8b2",
   "metadata": {},
   "outputs": [],
   "source": []
  },
  {
   "cell_type": "code",
   "execution_count": null,
   "id": "ca6d2908",
   "metadata": {},
   "outputs": [],
   "source": []
  }
 ],
 "metadata": {
  "kernelspec": {
   "display_name": "Python 3 (ipykernel)",
   "language": "python",
   "name": "python3"
  },
  "language_info": {
   "codemirror_mode": {
    "name": "ipython",
    "version": 3
   },
   "file_extension": ".py",
   "mimetype": "text/x-python",
   "name": "python",
   "nbconvert_exporter": "python",
   "pygments_lexer": "ipython3",
   "version": "3.9.6"
  }
 },
 "nbformat": 4,
 "nbformat_minor": 5
}
